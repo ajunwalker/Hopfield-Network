{
 "cells": [
  {
   "cell_type": "markdown",
   "metadata": {},
   "source": [
    "# Hopfield Network"
   ]
  },
  {
   "cell_type": "markdown",
   "metadata": {},
   "source": [
    "## 0 - Import Dependencies"
   ]
  },
  {
   "cell_type": "code",
   "execution_count": 1,
   "metadata": {
    "collapsed": true
   },
   "outputs": [],
   "source": [
    "from random import randint\n",
    "import numpy as np"
   ]
  },
  {
   "cell_type": "markdown",
   "metadata": {},
   "source": [
    "## 1 - Helper Functions"
   ]
  },
  {
   "cell_type": "markdown",
   "metadata": {},
   "source": [
    "### 1.1 - Function for Computing Outer Product for New Memory"
   ]
  },
  {
   "cell_type": "markdown",
   "metadata": {},
   "source": [
    "The outer product of a vector $\\textbf{x}$, is just $\\textbf{x} \\textbf{x}^{T}$.\n",
    "\n",
    "All indices where $i=j$ is set to zero as there are no recurrence connections."
   ]
  },
  {
   "cell_type": "code",
   "execution_count": 2,
   "metadata": {
    "collapsed": false
   },
   "outputs": [],
   "source": [
    "def create_memory(x):\n",
    "    outer = np.dot(x, x.T)\n",
    "    for i in range(len(x)): outer[i][i] = 0\n",
    "    return outer"
   ]
  },
  {
   "cell_type": "code",
   "execution_count": 3,
   "metadata": {
    "collapsed": false,
    "scrolled": false
   },
   "outputs": [
    {
     "data": {
      "text/plain": [
       "array([[ 0, -1,  1],\n",
       "       [-1,  0, -1],\n",
       "       [ 1, -1,  0]])"
      ]
     },
     "execution_count": 3,
     "metadata": {},
     "output_type": "execute_result"
    }
   ],
   "source": [
    "create_memory(np.array([[1, -1, 1]]).T)"
   ]
  },
  {
   "cell_type": "markdown",
   "metadata": {},
   "source": [
    "### 1.2 - Signum Function"
   ]
  },
  {
   "cell_type": "code",
   "execution_count": 4,
   "metadata": {
    "collapsed": false
   },
   "outputs": [],
   "source": [
    "def signum(x, memories, threshold=0.0):\n",
    "    return x/memories"
   ]
  },
  {
   "cell_type": "markdown",
   "metadata": {},
   "source": [
    "### 1.3 - Print Hopfield Network Weights"
   ]
  },
  {
   "cell_type": "code",
   "execution_count": 5,
   "metadata": {
    "collapsed": true
   },
   "outputs": [],
   "source": [
    "def print_weights(network):\n",
    "    \n",
    "        for row in network.w:\n",
    "            print(\"|\", end=\"\")\n",
    "            \n",
    "            # If a weight is positive, add space to balance cell width\n",
    "            for col in row:\n",
    "                \n",
    "                if col < 0:\n",
    "                    print(\"{0:.2f} |\".format(col/network.memories), end=\"\")\n",
    "                    \n",
    "                else: print(\" {0:.2f} |\".format(col/network.memories), end=\"\")\n",
    "                    \n",
    "            print()"
   ]
  },
  {
   "cell_type": "markdown",
   "metadata": {},
   "source": [
    "## 2 - Network Implementation"
   ]
  },
  {
   "cell_type": "code",
   "execution_count": 6,
   "metadata": {
    "collapsed": false
   },
   "outputs": [],
   "source": [
    "class Hopfield:\n",
    "    \n",
    "    def __init__(self, size=5, weights=None):\n",
    "        \n",
    "        if weights == None:\n",
    "            self.w = np.zeros([size, size])\n",
    "            self.size = size\n",
    "            self.memories = 0\n",
    "            \n",
    "        else: self.w = weights\n",
    "        \n",
    "    def add_memory(self, memory):\n",
    "        \n",
    "        new_memory = create_memory(memory)\n",
    "        self.w += new_memory\n",
    "        self.memories += 1\n",
    "        \n",
    "        \n",
    "    def is_stable(self, memory):\n",
    "        \n",
    "        # Return true if network is able to reproduce input\n",
    "        if signum(np.dot(self.w, memory), self.memories).all() == memory.all():\n",
    "            return True\n",
    "        \n",
    "        # Return false if network is unable to reproduce input\n",
    "        else: \n",
    "            return False\n",
    "        \n",
    "        \n",
    "    def find(self, target, threshold=0.0, iterations=100):\n",
    "    \n",
    "        for _ in range(iterations):\n",
    "\n",
    "            # Select a random row from the weight matrix\n",
    "            rand_idx =  randint(0, len(target)-1)\n",
    "            row = self.w[rand_idx][:]\n",
    "\n",
    "            # Multiply target with random row from matrix\n",
    "            result = np.dot(row, target)\n",
    "\n",
    "            # Flip the bit depending on energy\n",
    "            if result > threshold:\n",
    "                target[rand_idx] = 1\n",
    "\n",
    "            elif result > threshold:\n",
    "                target[rand_int] = -1"
   ]
  },
  {
   "cell_type": "markdown",
   "metadata": {},
   "source": [
    "## 3 - Verify Implementation"
   ]
  },
  {
   "cell_type": "code",
   "execution_count": 9,
   "metadata": {
    "collapsed": false
   },
   "outputs": [
    {
     "name": "stdout",
     "output_type": "stream",
     "text": [
      "| 0.00 | 0.00 | 1.00 |-1.00 | 0.00 | 0.00 |\n",
      "| 0.00 | 0.00 | 0.00 | 0.00 |-1.00 |-1.00 |\n",
      "| 1.00 | 0.00 | 0.00 |-1.00 | 0.00 | 0.00 |\n",
      "|-1.00 | 0.00 |-1.00 | 0.00 | 0.00 | 0.00 |\n",
      "| 0.00 |-1.00 | 0.00 | 0.00 | 0.00 | 1.00 |\n",
      "| 0.00 |-1.00 | 0.00 | 0.00 | 1.00 | 0.00 |\n",
      "True True False\n"
     ]
    }
   ],
   "source": [
    "# Initialise network\n",
    "h = Hopfield(size=6)\n",
    "\n",
    "# Create three vectors\n",
    "x1 = np.array([[ 1, -1,  1, -1,  1,  1]])\n",
    "x2 = np.array([[ 1,  1,  1, -1, -1, -1]])\n",
    "x3 = np.array([[ 1,  1,  1,  1,  1,  1]])\n",
    "\n",
    "# Add memories to network\n",
    "h.add_memory(x1.T)\n",
    "h.add_memory(x2.T)\n",
    "\n",
    "# Print network weights\n",
    "print_weights(h)\n",
    "\n",
    "# Check if the memories are stable in the network\n",
    "print(h.is_stable(x1.T), h.is_stable(x2.T), h.is_stable(x3.T))"
   ]
  },
  {
   "cell_type": "markdown",
   "metadata": {},
   "source": [
    "### 1.5 - Check Memory Stability"
   ]
  },
  {
   "cell_type": "code",
   "execution_count": 8,
   "metadata": {
    "collapsed": false
   },
   "outputs": [
    {
     "ename": "SyntaxError",
     "evalue": "invalid syntax (<ipython-input-8-45be1eb6432b>, line 2)",
     "output_type": "error",
     "traceback": [
      "\u001b[0;36m  File \u001b[0;32m\"<ipython-input-8-45be1eb6432b>\"\u001b[0;36m, line \u001b[0;32m2\u001b[0m\n\u001b[0;31m    [ 0.0, -0.2.  0.2. -0.2. -0.2],\u001b[0m\n\u001b[0m                    ^\u001b[0m\n\u001b[0;31mSyntaxError\u001b[0m\u001b[0;31m:\u001b[0m invalid syntax\n"
     ]
    }
   ],
   "source": [
    "weights = np.array([\n",
    "    [ 0.0, -0.2,  0.2, -0.2. -0.2],\n",
    "    [-0.2,  0.0, -0.2,  0.2,  0.2], \n",
    "    [ 0.2, -0.2,  0.0, -0.2, -0.2],\n",
    "    [-0.2,  0.2, -0.2,  0.0,  0.2],\n",
    "    [-0.2,  0.2, -0.2,  0.2,  0.0]\n",
    "])\n",
    "h2 = Hopfield(size=5, weights=weights)\n",
    "\n",
    "m1 = np.array([[]])"
   ]
  }
 ],
 "metadata": {
  "kernelspec": {
   "display_name": "Python 3",
   "language": "python",
   "name": "python3"
  },
  "language_info": {
   "codemirror_mode": {
    "name": "ipython",
    "version": 3
   },
   "file_extension": ".py",
   "mimetype": "text/x-python",
   "name": "python",
   "nbconvert_exporter": "python",
   "pygments_lexer": "ipython3",
   "version": "3.5.2"
  }
 },
 "nbformat": 4,
 "nbformat_minor": 2
}
